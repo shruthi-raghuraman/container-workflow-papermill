{
 "cells": [
  {
   "cell_type": "code",
   "execution_count": 1,
   "metadata": {
    "papermill": {
     "duration": 0.017102,
     "end_time": "2019-10-24T21:05:28.372700",
     "exception": false,
     "start_time": "2019-10-24T21:05:28.355598",
     "status": "completed"
    },
    "tags": [
     "injected-parameters"
    ]
   },
   "outputs": [],
   "source": [
    "# Parameters\n",
    "msgs = [\"Hello world\", \"we did it!!!\", \"algo\", \"instagram\", \"oindrilla\"]\n"
   ]
  },
  {
   "cell_type": "code",
   "execution_count": 2,
   "metadata": {
    "papermill": {
     "duration": 0.013378,
     "end_time": "2019-10-24T21:05:28.390748",
     "exception": false,
     "start_time": "2019-10-24T21:05:28.377370",
     "status": "completed"
    },
    "tags": []
   },
   "outputs": [],
   "source": [
    "msgs = \"harshad\""
   ]
  },
  {
   "cell_type": "code",
   "execution_count": 3,
   "metadata": {
    "papermill": {
     "duration": 0.012249,
     "end_time": "2019-10-24T21:05:28.407267",
     "exception": false,
     "start_time": "2019-10-24T21:05:28.395018",
     "status": "completed"
    },
    "tags": []
   },
   "outputs": [
    {
     "name": "stdout",
     "output_type": "stream",
     "text": [
      "harshad\n"
     ]
    }
   ],
   "source": [
    "print(msgs)"
   ]
  },
  {
   "cell_type": "code",
   "execution_count": null,
   "metadata": {
    "papermill": {
     "duration": 0.004586,
     "end_time": "2019-10-24T21:05:28.415175",
     "exception": false,
     "start_time": "2019-10-24T21:05:28.410589",
     "status": "completed"
    },
    "tags": []
   },
   "outputs": [],
   "source": []
  }
 ],
 "metadata": {
  "kernelspec": {
   "display_name": "Python 3",
   "language": "python",
   "name": "python3"
  },
  "language_info": {
   "codemirror_mode": {
    "name": "ipython",
    "version": 3
   },
   "file_extension": ".py",
   "mimetype": "text/x-python",
   "name": "python",
   "nbconvert_exporter": "python",
   "pygments_lexer": "ipython3",
   "version": "3.6.8"
  },
  "papermill": {
   "duration": 1.036893,
   "end_time": "2019-10-24T21:05:28.623048",
   "environment_variables": {},
   "exception": null,
   "input_path": "Input-py3.ipynb",
   "output_path": "output.ipynb",
   "parameters": {
    "msgs": [
     "Hello world",
     "we did it!!!",
     "algo",
     "instagram",
     "oindrilla"
    ]
   },
   "start_time": "2019-10-24T21:05:27.586155",
   "version": "1.2.1"
  }
 },
 "nbformat": 4,
 "nbformat_minor": 2
}