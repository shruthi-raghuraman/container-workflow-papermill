{
 "cells": [
  {
   "cell_type": "code",
   "execution_count": 1,
   "metadata": {
    "papermill": {
     "duration": 0.017244,
     "end_time": "2019-10-24T16:41:11.600515",
     "exception": false,
     "start_time": "2019-10-24T16:41:11.583271",
     "status": "completed"
    },
    "tags": []
   },
   "outputs": [],
   "source": [
    "import platform"
   ]
  },
  {
   "cell_type": "code",
   "execution_count": 2,
   "metadata": {
    "papermill": {
     "duration": 0.018265,
     "end_time": "2019-10-24T16:41:11.624021",
     "exception": false,
     "start_time": "2019-10-24T16:41:11.605756",
     "status": "completed"
    },
    "tags": []
   },
   "outputs": [
    {
     "data": {
      "text/plain": [
       "'3.6.8'"
      ]
     },
     "execution_count": 2,
     "metadata": {},
     "output_type": "execute_result"
    }
   ],
   "source": [
    "platform.python_version()"
   ]
  },
  {
   "cell_type": "code",
   "execution_count": 3,
   "metadata": {
    "papermill": {
     "duration": 0.142169,
     "end_time": "2019-10-24T16:41:11.771412",
     "exception": false,
     "start_time": "2019-10-24T16:41:11.629243",
     "status": "completed"
    },
    "tags": []
   },
   "outputs": [],
   "source": [
    "import pyarrow.parquet as pq"
   ]
  },
  {
   "cell_type": "code",
   "execution_count": 4,
   "metadata": {
    "papermill": {
     "duration": 0.007994,
     "end_time": "2019-10-24T16:41:11.782982",
     "exception": false,
     "start_time": "2019-10-24T16:41:11.774988",
     "status": "completed"
    },
    "tags": [
     "parameters"
    ]
   },
   "outputs": [],
   "source": [
    "msgs = \"harshad\""
   ]
  },
  {
   "cell_type": "code",
   "execution_count": 5,
   "metadata": {
    "papermill": {
     "duration": 0.007847,
     "end_time": "2019-10-24T16:41:11.794261",
     "exception": false,
     "start_time": "2019-10-24T16:41:11.786414",
     "status": "completed"
    },
    "tags": [
     "injected-parameters"
    ]
   },
   "outputs": [],
   "source": [
    "# Parameters\n",
    "msgs = [\"Hello world\", \"we did it!!!\", \"algo\", \"instagram\", \"oindrilla\"]\n"
   ]
  },
  {
   "cell_type": "code",
   "execution_count": 6,
   "metadata": {
    "papermill": {
     "duration": 0.008958,
     "end_time": "2019-10-24T16:41:11.806652",
     "exception": false,
     "start_time": "2019-10-24T16:41:11.797694",
     "status": "completed"
    },
    "tags": []
   },
   "outputs": [
    {
     "name": "stdout",
     "output_type": "stream",
     "text": [
      "harshad\n"
     ]
    }
   ],
   "source": [
    "print(msgs)"
   ]
  },
  {
   "cell_type": "code",
   "execution_count": null,
   "metadata": {
    "papermill": {
     "duration": 0.004106,
     "end_time": "2019-10-24T16:41:11.814485",
     "exception": false,
     "start_time": "2019-10-24T16:41:11.810379",
     "status": "completed"
    },
    "tags": []
   },
   "outputs": [],
   "source": []
  }
 ],
 "metadata": {
  "celltoolbar": "Tags",
  "kernelspec": {
   "display_name": "Python 2",
   "language": "python",
   "name": "python2"
  },
  "language_info": {
   "codemirror_mode": {
    "name": "ipython",
    "version": 3
   },
   "file_extension": ".py",
   "mimetype": "text/x-python",
   "name": "python",
   "nbconvert_exporter": "python",
   "pygments_lexer": "ipython3",
   "version": "3.6.8"
  },
  "papermill": {
   "duration": 1.181936,
   "end_time": "2019-10-24T16:41:12.124250",
   "environment_variables": {},
   "exception": null,
   "input_path": "Untitled.ipynb",
   "output_path": "output.ipynb",
   "parameters": {
    "msgs": [
     "Hello world",
     "we did it!!!",
     "algo",
     "instagram",
     "oindrilla"
    ]
   },
   "start_time": "2019-10-24T16:41:10.942314",
   "version": "1.2.1"
  }
 },
 "nbformat": 4,
 "nbformat_minor": 2
}
